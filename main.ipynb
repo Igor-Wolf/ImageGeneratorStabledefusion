{
 "cells": [
  {
   "cell_type": "code",
   "execution_count": null,
   "id": "7e9805c9",
   "metadata": {},
   "outputs": [],
   "source": [
    "import torch\n",
    "\n",
    "print(torch.cuda.memory_summary())\n"
   ]
  },
  {
   "cell_type": "code",
   "execution_count": null,
   "id": "f7885517",
   "metadata": {},
   "outputs": [],
   "source": [
    "import torch\n",
    "from diffusers import StableDiffusion3Pipeline\n",
    "\n",
    "pipe = StableDiffusion3Pipeline.from_pretrained(\n",
    "    \"stabilityai/stable-diffusion-3-medium-diffusers\",\n",
    "    torch_dtype=torch.float16, \n",
    "    # Adicione a otimização de memória do accelerate para o carregamento do modelo\n",
    "    low_cpu_mem_usage=True \n",
    ")\n",
    "\n",
    "# CRUCIAL: Ativar o CPU Offloading para gerir a VRAM de 12GB\n",
    "pipe.enable_model_cpu_offload() \n",
    "\n",
    "print(\"Pipeline carregada e otimizada com sucesso em float16 (ou quase!).\")"
   ]
  },
  {
   "cell_type": "code",
   "execution_count": null,
   "id": "b1edd627",
   "metadata": {},
   "outputs": [],
   "source": [
    "# Verificar se o pipe foi carregado anteriormente \n",
    "\n",
    "image = pipe(\n",
    "    \" knight , battle, dark fantasy, war.\",\n",
    "    negative_prompt=\"\",\n",
    "    num_inference_steps=60, # Numero de passos para gerar a imagem >50 muitos detalhes, 28 padrão. \n",
    "    guidance_scale=8.0, # Guia < 6 muito criativo, pode ignorar o propt ; 7 - 10 rasoavelmente segue o prompt ; >10 segue estritamente o prompt\n",
    "    width=1920,   # Largura widescreen    1280x720 / 1920x1072  tem que ser multiplo de 16\n",
    "    height=1072    # Altura widescree\n",
    ").images[0]\n",
    "\n",
    "image.save(\"image.png\")\n",
    "print(\"Imagem gerada e salva com sucesso!\")\n",
    "image"
   ]
  }
 ],
 "metadata": {
  "kernelspec": {
   "display_name": "venv310",
   "language": "python",
   "name": "python3"
  },
  "language_info": {
   "codemirror_mode": {
    "name": "ipython",
    "version": 3
   },
   "file_extension": ".py",
   "mimetype": "text/x-python",
   "name": "python",
   "nbconvert_exporter": "python",
   "pygments_lexer": "ipython3",
   "version": "3.10.0"
  }
 },
 "nbformat": 4,
 "nbformat_minor": 5
}
